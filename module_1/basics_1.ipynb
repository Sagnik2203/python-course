{
 "cells": [
  {
   "cell_type": "markdown",
   "id": "a6891fa7-9a1f-43e6-91eb-f625fc11a6b6",
   "metadata": {
    "tags": []
   },
   "source": [
    "# Introduction To Python Programming"
   ]
  },
  {
   "cell_type": "markdown",
   "id": "7b34af45-3046-4c93-a4f6-3224281d0f90",
   "metadata": {},
   "source": [
    "## [1] Python Data Types"
   ]
  },
  {
   "cell_type": "markdown",
   "id": "143a6b9a-c8ab-4842-b6ef-8f5e63501aea",
   "metadata": {
    "tags": []
   },
   "source": [
    "### Fundamental data types in Python\n",
    "These are the data types that are core to the language - we can get most of our work done using these data types and represent almost anything with these.\n",
    "\n",
    "The following are the fundamental data types in Python\n",
    "\n",
    "#### `int`\n",
    "This represents the integer data type. It is used to hold positive and negative numbers without any fractional part. For example **23**, **0**, **-100** etc.\n",
    "\n",
    "\n",
    "#### `float`\n",
    "This represents the floating point data type. A floating point data type is a number with fractional part. The fractional part can even be zero. For example **0.01**, **23.0**, **-0.5** etc.\n",
    "\n",
    "#### `bool`\n",
    "This represents the boolean data type. A boolean data type is one that can either be **True** or **False** and these are the only values allowed.\n",
    "\n",
    "\n",
    "#### `str`\n",
    "This represents the string data type. A string is just a sequence of characters. These characters can be alphabets, numbers, special characters or any combinations of them. For example **hello world**, **23** (note that here 23 is represented as a string, not an integer), **$&Gh!** etc.\n",
    "\n",
    "\n",
    "#### `list`\n",
    "A list represents a sequence of items stored one after the other. These items may or may not be of the same data type. For example **[10, 20, 30]** is a Python list. **[30.123, False, 10, \"Hello\"]** is also a Python list (in this case, the list holds items of different data types).\n",
    "\n",
    "\n",
    "#### `tuple`\n",
    "A tuple is a collection of objects which is ordered and immutable. Tuples are Python sequences just like lists. For example **(1, 2, 4, 10)** is a tuple. \n",
    "\n",
    "\n",
    "#### `set`\n",
    "A set is a collection of unordered items. Each element in a set is unique, immutable and if duplicate elements are added, they automatically get removed. The set itself is however mutable. For example **{\"Monday\", \"Tuesday\", \"Wednesday\"}** is a set.\n",
    "\n",
    "#### `dictionary`\n",
    "A dictionary is used to store data in key:value pairs and is an *ordered* collection of items that are mutable but unique. Duplicates are not allowed. For example **{'name': 'anish', 'age': 23}** is a dictionary.\n",
    "\n",
    "**NOTE**\n",
    "\n",
    "As of Python **3.7** dictionaries are ordered. In Python **3.6** and earlier, they are unordered."
   ]
  },
  {
   "cell_type": "markdown",
   "id": "25044f02",
   "metadata": {},
   "source": [
    "                                        PYTHON_DATA_TYPES\n",
    "                                                |\n",
    "                                                |\n",
    "                                                |\n",
    "                           ----------------------------------------------\n",
    "                          |            |           |           |         |\n",
    "                          |            |           |           |         |\n",
    "                          |            |           |           |         |\n",
    "                       NUMERIC    DICTIONARY    BOOLEAN       SET     SEQUENCE\n",
    "                          |                                              |\n",
    "                          |                                              |\n",
    "                          |                                              |\n",
    "                  ----------------                                ----------------\n",
    "                 |        |       |                              |       |        | \n",
    "                 |        |       |                              |       |        | \n",
    "                 |        |       |                              |       |        |\n",
    "              INTEGER   FLOAT  COMPLEX                        STRINGS   LIST    TUPLE"
   ]
  },
  {
   "cell_type": "markdown",
   "id": "6480e06b-5eb2-4d34-8654-079fb887ecf6",
   "metadata": {},
   "source": [
    "### Non Fundamental Data Types\n",
    "These are the data types which are not core to the programming language but are very useful to solve certain problems/use cases. These data types are either built on top of the fundamental data types or mimic them with additional features.\n",
    "\n",
    "#### `class`\n",
    "Class is a custom data type - which means that we can use any combination of the fundamental data types to create the class data types. Note that two or more classes can also be combined to create a new data type. \n",
    "\n",
    "#### `None` \n",
    "This special data type in Python as it represents absence of data."
   ]
  },
  {
   "cell_type": "markdown",
   "id": "fd58e204-4b6e-497c-ac8b-a805b8f4729e",
   "metadata": {},
   "source": [
    "### Specialized Data Types\n",
    "These are the data types that are derived externally from libraries, modules etc. These data types are not supported by Python natively so in order to use them we need to install the required module first. For example, the **dataframe** is a specialized data type that is provided from the **Pandas** library."
   ]
  },
  {
   "cell_type": "markdown",
   "id": "8676ad90",
   "metadata": {},
   "source": [
    "### Important Links\n",
    "\n",
    "- [Data Types](https://realpython.com/python-data-types/)\n",
    "- [Advanced Data Types](https://docs.python.org/3.8/library/datatypes.html)"
   ]
  },
  {
   "cell_type": "markdown",
   "id": "ea6a03ce-0f45-4d26-98d9-6cd930d1b85f",
   "metadata": {},
   "source": [
    "## [1] Variables"
   ]
  },
  {
   "cell_type": "markdown",
   "id": "504bc1e7-e682-462d-bf67-46283670fa8c",
   "metadata": {},
   "source": [
    "Variables hold data that can be used in our program. At a deeper level, they contain the address of the memory location where the data is actually stored in memory.  \n",
    "\n",
    "Consider the memory (RAM) snapshot below with memory locations of `10`, `20`, `30` and so on...  \n",
    "\n",
    "\n",
    "                              10   20   30   40   50   60\n",
    "                            |    |    |    |    |    |    |\n",
    "                            |.   |.   |7.2 |.   |.   |.   |\n",
    "                            \n",
    "\n",
    "In the above example the data **7.2** is stored in the memory location `30` and assume there is a varible **a** that contains the data **7.2**.  \n",
    "What it means is **a** actually contains the memory location `30` and when the program uses this variable it will know to look at the memory location `30` to access the data **7.2**  \n",
    "\n",
    "\n",
    "A variable is created by specifying some characters followed by the *equals* symbol `=` followed by the data. The syntax is `a = 30`  \n",
    "                        \n",
    "In Python terms, this is also called as **defining a variable**. The proccess of assigning a value to a variable is called **binding**. In the above example, we can say that the number **30** is _bound_ to the variable `a`. Once the binding is complete, we say that the variable `a` has been **defined**"
   ]
  },
  {
   "cell_type": "code",
   "execution_count": 40,
   "id": "b064ac7b-7939-4e4c-8352-fdde245502f8",
   "metadata": {},
   "outputs": [
    {
     "name": "stdout",
     "output_type": "stream",
     "text": [
      "True\n",
      "20\n",
      "hello world\n"
     ]
    }
   ],
   "source": [
    "# Python variables names with multiple words are separated by underscore character \"_\" \n",
    "# This style is called snake-case\n",
    "# Variables which change values are denoted with small case characters\n",
    "var = True\n",
    "some_variable = 20\n",
    "another_variable = \"hello world\"\n",
    "\n",
    "print(var)\n",
    "print(some_variable)\n",
    "print(another_variable)"
   ]
  },
  {
   "cell_type": "code",
   "execution_count": null,
   "id": "f1f9cde2-76e5-4840-bad5-425a0372ae1b",
   "metadata": {},
   "outputs": [
    {
     "name": "stdout",
     "output_type": "stream",
     "text": [
      "False\n",
      "New Value\n",
      "67.88\n"
     ]
    }
   ],
   "source": [
    "# Values inside variables can be updated anytime we want\n",
    "var = False\n",
    "some_variable = \"New Value\"\n",
    "another_variable = 67.88\n",
    "\n",
    "print(var)\n",
    "print(some_variable)\n",
    "print(another_variable)"
   ]
  },
  {
   "cell_type": "code",
   "execution_count": null,
   "id": "ede35d18-71b1-42b8-bc38-82fb0e1aee18",
   "metadata": {},
   "outputs": [
    {
     "name": "stdout",
     "output_type": "stream",
     "text": [
      "3.141\n",
      "6.626000000000001e-33\n"
     ]
    }
   ],
   "source": [
    "# Variables which do not change their value during the course of execution are denoted with capital case characters\n",
    "PI = 3.141\n",
    "H = 6.626 * 10e-34\n",
    "\n",
    "print(PI)\n",
    "print(H)"
   ]
  },
  {
   "cell_type": "code",
   "execution_count": null,
   "id": "4b581be5-e217-404f-9a19-64144e500e90",
   "metadata": {},
   "outputs": [
    {
     "name": "stdout",
     "output_type": "stream",
     "text": [
      "5.6666\n",
      "2000\n"
     ]
    }
   ],
   "source": [
    "# Variables denoted as constants can also be updated dynamically\n",
    "PI = 5.6666\n",
    "H = 2000\n",
    "\n",
    "print(PI)\n",
    "print(H)"
   ]
  },
  {
   "cell_type": "code",
   "execution_count": 6,
   "id": "03e2b71c-403c-428e-b185-c4289d9c281f",
   "metadata": {},
   "outputs": [
    {
     "name": "stdout",
     "output_type": "stream",
     "text": [
      "10\n",
      "20\n",
      "30\n"
     ]
    }
   ],
   "source": [
    "# Variable multi definition\n",
    "# Define multiple variables simultaneously\n",
    "a, b, c = 10, 20, 30\n",
    "\n",
    "print(a)\n",
    "print(b)\n",
    "print(c)\n",
    "\n",
    "# Binding more or less number of values to the variables leads to error\n",
    "# a, b, c = 10, 20\n",
    "# x, y, z = 100, 200, 300, 400"
   ]
  },
  {
   "cell_type": "markdown",
   "id": "6aec1f66-5fa5-47a0-9258-79836967e79b",
   "metadata": {},
   "source": [
    "### Keywords  \n",
    "\n",
    "There are some reserved words which convey a special meaning to the Python compiler. These words are called as **keywords** and cannot be used for anything other than the purpose they are intended for. Examples of these words are:  \n",
    "\n",
    "`print()`  `def()` `if` `elif` `list` etc..\n",
    "\n",
    "It therefore goes without saying that these words cannot be used to define variables. For example `print = 23` or `def = \"hello\"` are not allowed.\n",
    "\n",
    "### Type\n",
    "\n",
    "We can check the data type of a variable with the keyword `type()`. It tells us what is the nature of the data that is stored in a variable. For example `type(23)` will give us `int` and `type(\"hello\")` will give us `str`"
   ]
  },
  {
   "cell_type": "code",
   "execution_count": 41,
   "id": "ff26602a",
   "metadata": {},
   "outputs": [
    {
     "name": "stdout",
     "output_type": "stream",
     "text": [
      "<class 'str'>\n",
      "<class 'int'>\n",
      "<class 'float'>\n",
      "<class 'bool'>\n",
      "<class 'list'>\n",
      "<class 'dict'>\n"
     ]
    }
   ],
   "source": [
    "# Data of type 'str'\n",
    "print(type(\"hello\"))\n",
    "\n",
    "# Data of type 'int'\n",
    "print(type(23))\n",
    "\n",
    "# Data of type 'float'\n",
    "print(type(56.23))\n",
    "\n",
    "# Data of type 'bool'\n",
    "print(type(False))\n",
    "\n",
    "# Data of type 'list'\n",
    "print(type([]))\n",
    "\n",
    "# Data of type 'dict'\n",
    "print(type({}))"
   ]
  },
  {
   "cell_type": "markdown",
   "id": "d92e0bca",
   "metadata": {},
   "source": [
    "### Memory Address Of A Variable\n",
    "\n",
    "As mentioned earlier, every variable we define gets stored in the memory under a particular location. This location is called the **address** of the variable and is used by Python to identify it's location in memory when the data inside the variable is used.  \n",
    "\n",
    "We can check for the address of a variable using the **id()** keyword. The syntax is `id(some_variable)`. Remember, if two or more variables have the same id, then it means they are pointing to the same location in memory.  \n",
    "\n",
    "However, if two or more variables have the same data, it does not mean that they will have the same address in memory."
   ]
  },
  {
   "cell_type": "code",
   "execution_count": 63,
   "id": "049570a4",
   "metadata": {},
   "outputs": [
    {
     "name": "stdout",
     "output_type": "stream",
     "text": [
      "a: 4\n",
      "id(a) 4337591936\n",
      "\n",
      "b: 4\n",
      "id(b) 4337591936\n",
      "\n",
      "c: string\n",
      "id(c) 4342214128\n",
      "\n",
      "d: 45.0\n",
      "id(d) 4401023408\n",
      "\n",
      "e: string\n",
      "id(e) 4342214128\n",
      "\n",
      "f: 45.0\n",
      "id(f) 4401022576\n",
      "\n"
     ]
    }
   ],
   "source": [
    "a = 4\n",
    "b = 4\n",
    "c = \"string\"\n",
    "d = 45.0\n",
    "e = \"string\"\n",
    "f = 45.0\n",
    "\n",
    "print(\"a:\", a)\n",
    "print(\"id(a)\", id(a))\n",
    "print()\n",
    "\n",
    "print(\"b:\", b) \n",
    "print(\"id(b)\", id(b))\n",
    "print()\n",
    "\n",
    "print(\"c:\", c)\n",
    "print(\"id(c)\", id(c))\n",
    "print()\n",
    "\n",
    "\n",
    "print(\"d:\", d)\n",
    "print(\"id(d)\", id(d))\n",
    "print()\n",
    "\n",
    "print(\"e:\", e)\n",
    "print(\"id(e)\", id(e))\n",
    "print()\n",
    "\n",
    "print(\"f:\", f)\n",
    "print(\"id(f)\", id(f))\n",
    "print()"
   ]
  },
  {
   "cell_type": "markdown",
   "id": "9b413e10-1532-4548-b171-a6d66c162d16",
   "metadata": {},
   "source": [
    "### Important Links\n",
    "\n",
    "- [Python Variables](https://realpython.com/python-variables/)"
   ]
  },
  {
   "cell_type": "markdown",
   "id": "68a139ab-b68d-40a0-b874-998d36264f69",
   "metadata": {},
   "source": [
    "## [2] Numbers"
   ]
  },
  {
   "cell_type": "markdown",
   "id": "6dfc2e4c-428d-4d02-97c3-de3e01688d37",
   "metadata": {},
   "source": [
    "There are two types of numeric data types supported by Python - **int** (represents integers) and **float** (represents decimal values). It is possible to perform mathematical operations on numeric data types using BODMAS rules. "
   ]
  },
  {
   "cell_type": "code",
   "execution_count": null,
   "id": "09506a0d",
   "metadata": {},
   "outputs": [],
   "source": [
    "# This is an integer value\n",
    "age = 25\n",
    "print(age)\n",
    "print(type(age)) # The datatype of the variable\n",
    "\n",
    "print()\n",
    "\n",
    "# This is a floating point value\n",
    "bmi = 27.825\n",
    "print(bmi)\n",
    "print(type(bmi)) # The datatype of the variable"
   ]
  },
  {
   "cell_type": "code",
   "execution_count": 22,
   "id": "6c111bb1-4a7f-46ee-a660-f40be4f53ffc",
   "metadata": {},
   "outputs": [
    {
     "name": "stdout",
     "output_type": "stream",
     "text": [
      "94\n"
     ]
    }
   ],
   "source": [
    "# A simple mathematical expression; resulting value will be an integer\n",
    "result_1 = 45 * 12 - 56 * 8 + 2\n",
    "print(result_1)"
   ]
  },
  {
   "cell_type": "code",
   "execution_count": 23,
   "id": "07b110f1-a834-4dc5-8754-5672bcc93104",
   "metadata": {},
   "outputs": [
    {
     "name": "stdout",
     "output_type": "stream",
     "text": [
      "535.0\n"
     ]
    }
   ],
   "source": [
    "# A simple mathematical expression; the resulting value will be a decimal (because of the division operation)\n",
    "result_2 = 45 * 12 - 56 / 8 + 2\n",
    "print(result_2)"
   ]
  },
  {
   "cell_type": "code",
   "execution_count": 26,
   "id": "e378a175-182b-46e0-8695-92db5466c4d0",
   "metadata": {},
   "outputs": [
    {
     "name": "stdout",
     "output_type": "stream",
     "text": [
      "14400.0\n",
      "2530.0934579439254\n"
     ]
    }
   ],
   "source": [
    "t1 = 20\n",
    "t2 = -30\n",
    "t3 = 100\n",
    "t4 = 0.25\n",
    "t5 = 0.001\n",
    "\n",
    "# A mathematical expression from variables\n",
    "expr_1 = ((t1 + t2 + t3) / (t4 * 25)) / t5\n",
    "print(expr_1)\n",
    "\n",
    "# Combining the results of expr_1 with previous variables\n",
    "expr_2 = (expr_1 * result_1) / result_2\n",
    "print(expr_2)"
   ]
  },
  {
   "cell_type": "markdown",
   "id": "7da3b2d9-41dd-4ae9-93c8-36858910b59a",
   "metadata": {},
   "source": [
    "### Integer And Floating Point Division\n",
    "\n",
    "\n",
    "By default, Python always produces a decimal value as a result of division. Any subsequent operations performed after that using integer values are automatically promoted to decimal values. It is also possible to force the Python interpreter to ignore the decimal part (by removing it altogether!) using the characters **//** for example `EXPR_A // EXPR_B`\n",
    "\n",
    "However, it is important to note that to sucessfully perform integer division, both `EXPR_A` and `EXPR_B` in the above expression must be integer values. This means that the _left-hand-side_ (lhs) and the _right-hand-side_ values of the **//** symbol **must always evaluate to an integer** or in other words, the results of evaluating `EXPR_A` and `EXPR_B` should be integers. \n",
    "\n",
    "\n",
    "- If either of `EXPR_A` or `EXPR_B` is a decimal, the result will be decimal but any fractional part is removed (pt. **a**)\n",
    "- If both `EXPR_A` or `EXPR_B` are integers, then the result will be integer (pt. **b**)"
   ]
  },
  {
   "cell_type": "code",
   "execution_count": 37,
   "id": "39d56281-754f-4a71-bdb0-62097b3d7182",
   "metadata": {},
   "outputs": [
    {
     "name": "stdout",
     "output_type": "stream",
     "text": [
      "6.7073170731707314\n",
      "6\n"
     ]
    }
   ],
   "source": [
    "expr_a = 25 * 10 - 7 + 32\n",
    "expr_b = 56 - 100 + 85\n",
    "\n",
    "# Performing decimal division\n",
    "result_decimal = expr_a / expr_b\n",
    "print(result_decimal)\n",
    "\n",
    "# Performing integer division\n",
    "# This is a demonstration of pt. b from above\n",
    "result_integer = expr_a // expr_b\n",
    "print(result_integer)"
   ]
  },
  {
   "cell_type": "code",
   "execution_count": 41,
   "id": "3c03674d-adb5-4065-93ec-f98dd445e542",
   "metadata": {},
   "outputs": [
    {
     "name": "stdout",
     "output_type": "stream",
     "text": [
      "1.6666666666666667\n",
      "1\n",
      "1.71875\n",
      "1.0\n",
      "1.0\n",
      "1.0\n"
     ]
    }
   ],
   "source": [
    "# Floating point division (default expected behavior)\n",
    "t = 5 / 3\n",
    "print(t)\n",
    "\n",
    "# Integer division\n",
    "# Both LHS and RHS of // are integers; result will also be integer\n",
    "t = 5 // 3\n",
    "print(t)\n",
    "\n",
    "# Floating point division\n",
    "# Both LHS and RHS of / are decimals; result will be a floating point number\n",
    "t = 5.5 / 3.2\n",
    "print(t)\n",
    "\n",
    "# Integer division\n",
    "# LHS and RHS of // are decimals; result will be a floating point number with fractional part removed\n",
    "t = 5.5 // 3.2\n",
    "print(t)\n",
    "\n",
    "# Integer division\n",
    "# LHS is a floating point number; result will be a floating point number with fractional part removed\n",
    "t = 5.5 // 3\n",
    "print(t)\n",
    "\n",
    "# Integer division\n",
    "# RHS is a floating point number; result will be a floating point number with fractional part removed\n",
    "t = 5 // 3.2\n",
    "print(t)"
   ]
  },
  {
   "cell_type": "code",
   "execution_count": 42,
   "id": "f711dfc2-b06d-46d4-a101-c94e0681163e",
   "metadata": {},
   "outputs": [
    {
     "name": "stdout",
     "output_type": "stream",
     "text": [
      "5.691489361702128\n",
      "5.0\n"
     ]
    }
   ],
   "source": [
    "result_decimal = expr_1 / expr_2\n",
    "print(result_decimal)\n",
    "\n",
    "# Both LHS (expr_1) and RHS (expr_2) do not evaluate to integer the result is decimal \n",
    "# But the fractional part is removed\n",
    "# This is a demonstration of pt. a from above\n",
    "result_integer = expr_1 // expr_2\n",
    "print(result_integer)"
   ]
  },
  {
   "cell_type": "markdown",
   "id": "f2939bcd-058f-4197-ad0b-a46dd0a9a94b",
   "metadata": {},
   "source": [
    "### Modulo Operator\n",
    "\n",
    "The modulo operator **%** in Python is used to calculate the remainder for the operation `A / b` i.e. `A % b` gives the remainder when **A** is divided by **b**.  \n",
    "Note that `A % b` is not the same as `b % A` though in some cases the results of the operation maybe the same. It is also possible to chain together the results of multiple modulo expressions together as shown below."
   ]
  },
  {
   "cell_type": "code",
   "execution_count": 44,
   "id": "252fcec3-bb5d-4322-ba97-efa428ac25c3",
   "metadata": {},
   "outputs": [
    {
     "name": "stdout",
     "output_type": "stream",
     "text": [
      "0\n",
      "1\n",
      "8\n",
      "0\n",
      "3\n",
      "5\n"
     ]
    }
   ],
   "source": [
    "number_1 = 56\n",
    "number_2 = 8\n",
    "number_3 = 5\n",
    "number_4 = 12\n",
    "\n",
    "print(number_1 % number_2) # output should be 0\n",
    "print(number_1 % number_3) # output should be 1\n",
    "print(number_1 % number_4) # output should be 8\n",
    "\n",
    "t = (number_1 % number_4) % number_2 # output should be 0\n",
    "print(t)\n",
    "\n",
    "t = (number_1 % number_4) % number_3 # output should be 3\n",
    "print(t)\n",
    "\n",
    "t = number_3 % number_2 # if x < y for x % y then the result is always x\n",
    "print(t)"
   ]
  },
  {
   "cell_type": "markdown",
   "id": "592bc036",
   "metadata": {},
   "source": [
    "### Power Operator\n",
    "\n",
    "This operator is denoted by the symbol `**` and the syntax is `a ** b` which basically means **a** raised to the power **b**. "
   ]
  },
  {
   "cell_type": "code",
   "execution_count": 7,
   "id": "168a7377",
   "metadata": {},
   "outputs": [
    {
     "name": "stdout",
     "output_type": "stream",
     "text": [
      "32\n",
      "125\n"
     ]
    }
   ],
   "source": [
    "# Two raised to 5; result is 32\n",
    "print(2 ** 5)\n",
    "\n",
    "# 5 raised to 2; result is 125\n",
    "print(5 ** 3)"
   ]
  },
  {
   "cell_type": "markdown",
   "id": "ff70d39a",
   "metadata": {},
   "source": [
    "### Operator Precedence\n",
    "\n",
    "Some operators are more important than others when evaluating an expression (similar to BODMAS)\n",
    "for example `20 - 3 * 4` is **8** and NOT **68**.  \n",
    "This is because `3 * 4` is evaluated first and this result is subtracted from **20**. Hence the result is `20 - 12 = 8`\n",
    "\n",
    "The operator precedence of some of the commonly used mathematical operators are:  \n",
    "\n",
    "- `()`\n",
    "- `**`\n",
    "- `*` and `/` _same level of importance_\n",
    "- `+` and `-` _same level of importance_  \n",
    "\n",
    "\n",
    "### Number Representation\n",
    "\n",
    "Numbers - integers and floating point (both) are actually stored in the memory as BINARY NUMBERS i.e. they are converted into 1's and 0's and stored - because a computer at a hardware level can only understand binary instructions.  \n",
    "\n",
    "Remember, for floating point numbers, for example **25.125** the value is broken up into two parts - **25** and **125** and both these numbers are stored in two separate locations in the memory (as binary)!! When the program needs to access the value, they are converted back into the original form again!  \n",
    "\n",
    "We can convert an integer into the binary form using the keyword `bin()` and we can convert the binary back to **decimal** integer using `int()`  \n",
    "\n",
    "\n",
    "\n",
    "### Statements And Expressions\n",
    "\n",
    "In programming, anything that evaluates to a value and assigned on the right hand side of the `=` operator is called an **expression**. A **statement** in programming is considered an entire line of code. Consider the below snippet:\n",
    "\n",
    "```python\n",
    "p = 100\n",
    "res = 200 * 0.05 / p\n",
    "res = res ** 2\n",
    "print(res)\n",
    "```  \n",
    "\n",
    "In the above example, the lines \n",
    "- `p = 100` \n",
    "- `res = 200 * 0.05 / p` \n",
    "- `res = res ** 2` \n",
    "- `print(res)`   \n",
    "\n",
    "all are statements. The part `200 * 0.05 / p` (2nd line of code) and `res ** 2` (3rd line of code) both are expressions as these evaluate to a value.\n",
    "\n",
    "\n",
    "### Self Variable Assignment\n",
    "\n",
    "It is possible to assign an already defined variable to the same variable after applying some calculations on it. When this happens, the last saved value of the variable is used for calculations and the new value is updated to the variable. In this operation, the variable is assigned to a new memory location.  \n",
    "Also, it is important to remember that for this to work, the variable must be defined first.    \n",
    "\n",
    "```python\n",
    "a = 200\n",
    "print('value:', a)\n",
    "print('address:', id(a)) # Current memory location of variable 'a'\n",
    "\n",
    "print() # Print an empty line for better output representation\n",
    "\n",
    "a = a * 10 # 200 * 10 = 2000\n",
    "print('value:', a)\n",
    "print('address:', id(a)) \n",
    "\n",
    "print()\n",
    "\n",
    "a = a / 5 # 2000 / 5 = 400.0\n",
    "print('value:', a)\n",
    "print('address:', id(a))\n",
    "\n",
    "print()\n",
    "\n",
    "a = a - 10 * a / 1000 # 400.0 - 10 * 400.0 / 1000 = 400.0 - 10 * 0.4 = 400.0 - 4.0 = 396.0\n",
    "print('value:', a)\n",
    "print('address:', id(a))\n",
    "```  \n",
    "\n",
    "As evident from the example above, every statement is using the current value of the variable `a` to evaluate the expression and after every evaluation the variable `a` is assigned a new memory location. This can be verified with the help of the keyword `id()` which gives the current memory address of the variable `a`.  \n",
    "\n",
    "\n",
    "### Augmented Assignment Operator\n",
    "\n",
    "This is just a shortcut or a better way to represent the statement `a = a + 10` and we do it by compacting it to the format: `a += 10`.  \n",
    "\n",
    "This means that `a += 10` is the same as `a = a + 10` but for this to work, a has to be defined in prior otherwise it will lead to an error.  \n",
    "\n",
    "This is also possible with other mathematical operators like `*` `+` `-` `/` etc."
   ]
  },
  {
   "cell_type": "code",
   "execution_count": 42,
   "id": "8f12b283",
   "metadata": {},
   "outputs": [
    {
     "name": "stdout",
     "output_type": "stream",
     "text": [
      "binary:  0b101\n",
      "integer: 5\n"
     ]
    }
   ],
   "source": [
    "a = 5\n",
    "\n",
    "# Convert the int to binary\n",
    "b = bin(a)\n",
    "\n",
    "# Convert the binary back to int\n",
    "# To convert back to decimal integer, we also need to specify the base (in this case 2)\n",
    "i = int(b, 2)\n",
    "\n",
    "print(\"binary: \", b)\n",
    "print(\"integer:\", i)"
   ]
  },
  {
   "cell_type": "code",
   "execution_count": 22,
   "id": "2a9049c0",
   "metadata": {},
   "outputs": [
    {
     "name": "stdout",
     "output_type": "stream",
     "text": [
      "value: 200\n",
      "address: 4306829056\n",
      "\n",
      "value: 2000\n",
      "address: 4410227536\n",
      "\n",
      "value: 400.0\n",
      "address: 4410228496\n",
      "\n",
      "value: 396.0\n",
      "address: 4410226128\n"
     ]
    }
   ],
   "source": [
    "a = 200\n",
    "print('value:', a)\n",
    "print('address:', id(a)) # Current memory location of variable 'a'\n",
    "\n",
    "print() # Print an empty line for better output representation\n",
    "\n",
    "a = a * 10 # 200 * 10 = 2000\n",
    "print('value:', a)\n",
    "print('address:', id(a)) \n",
    "\n",
    "print()\n",
    "\n",
    "a = a / 5 # 2000 / 5 = 400.0\n",
    "print('value:', a)\n",
    "print('address:', id(a))\n",
    "\n",
    "print()\n",
    "\n",
    "a = a - 10 * a / 1000 # 400.0 - 10 * 400.0 / 1000 = 400.0 - 10 * 0.4 = 400.0 - 4.0 = 396.0\n",
    "print('value:', a)\n",
    "print('address:', id(a))"
   ]
  },
  {
   "cell_type": "code",
   "execution_count": 23,
   "id": "ec596b8a",
   "metadata": {},
   "outputs": [
    {
     "name": "stdout",
     "output_type": "stream",
     "text": [
      "5.0\n",
      "100\n"
     ]
    }
   ],
   "source": [
    "a = 10\n",
    "a /= 2\n",
    "print(a)\n",
    "\n",
    "a = 20\n",
    "a *= 5\n",
    "print(a)"
   ]
  },
  {
   "cell_type": "markdown",
   "id": "938521e1",
   "metadata": {},
   "source": [
    "### Important Links\n",
    "\n",
    "- [Floating Point Numbers](https://www.youtube.com/watch?v=PZRI1IfStY0)\n",
    "- [Floating Point Arithmetic: Issues And Limitations](https://docs.python.org/3/tutorial/floatingpoint.html)\n",
    "- [Numbers](https://realpython.com/python-numbers/)"
   ]
  },
  {
   "cell_type": "markdown",
   "id": "8a71725d-f41c-43ab-a073-01bb83dde15e",
   "metadata": {},
   "source": [
    "## [3] Strings"
   ]
  },
  {
   "cell_type": "markdown",
   "id": "912182a8-f3e2-4b8b-aedd-d5274a990a95",
   "metadata": {},
   "source": [
    "A string is a sequence of alpha-numeric characters enclosed within a pair of **' '** or **\" \"** symbols. Simply explained, a string is nothing more than a piece of text (of finite length). Strings in Python are described by the type **str**. \n",
    "\n",
    "When creating a string the characters must be enclosed within a pair of single, double or tripple quotes. While single and double quoted strings only spread over a single line, the tripple quoted strings spread over multiple lines. Hence they are used to create multi line strings and comments. "
   ]
  },
  {
   "cell_type": "code",
   "execution_count": 53,
   "id": "757d3c65-ae39-458f-811b-f7e28b8193b8",
   "metadata": {},
   "outputs": [
    {
     "name": "stdout",
     "output_type": "stream",
     "text": [
      "[1]. hello world\n",
      "[2]. hello world again!\n",
      "[3]. This is a multi line string\n",
      "that is spread over many lines, this being the second line\n",
      "but definitely not the last there will also be one more line.\n",
      "This is the last line of the multi-line string\n"
     ]
    }
   ],
   "source": [
    "# Single quoted string\n",
    "string_1 = '[1]. hello world'\n",
    "print(string_1)\n",
    "\n",
    "# Double quoted string\n",
    "string_2 = \"[2]. hello world again!\"\n",
    "print(string_2)\n",
    "\n",
    "# Multi line string\n",
    "string_3 = '''[3]. This is a multi line string\n",
    "that is spread over many lines, this being the second line\n",
    "but definitely not the last there will also be one more line.\n",
    "This is the last line of the multi-line string'''\n",
    "print(string_3)"
   ]
  },
  {
   "cell_type": "code",
   "execution_count": 54,
   "id": "1f93d1ef-cbf9-4a17-bb0a-e4afbd3e8dd3",
   "metadata": {},
   "outputs": [
    {
     "name": "stdout",
     "output_type": "stream",
     "text": [
      "<class 'str'>\n"
     ]
    }
   ],
   "source": [
    "# To check for the type \n",
    "print(type(string_1))"
   ]
  },
  {
   "cell_type": "markdown",
   "id": "b96fde77-f754-4d23-a43e-741b9a085f6b",
   "metadata": {},
   "source": [
    "### Concatenation\n",
    "\n",
    "Strings can be joined together using the **+** operator; this is called as **concatenation** of strings. By using multiple strings as operands on either side of **+** operator, we can join these different strings into a single string.\n",
    "\n",
    "One point to remember here, while numbers can be concatenated with strings, they need to be represented as strings first. A number of type **int** or **float** cannot be concatenated with a string. In concatenation, the order of concatenation matters.  \n",
    "\n",
    "F"
   ]
  },
  {
   "cell_type": "code",
   "execution_count": 44,
   "id": "deb91e81-bcf7-4543-a388-db5f1ff22084",
   "metadata": {},
   "outputs": [
    {
     "name": "stdout",
     "output_type": "stream",
     "text": [
      "helloworld\n",
      "worldhello\n"
     ]
    }
   ],
   "source": [
    "B = \"hello\"\n",
    "C = \"world\"\n",
    "\n",
    "# Concatenate string C to string B\n",
    "A = B + C\n",
    "print(A)\n",
    "\n",
    "# Concatenate string B to string C\n",
    "A = C + B\n",
    "print(A)"
   ]
  },
  {
   "cell_type": "code",
   "execution_count": 62,
   "id": "24faa927-7ea3-442a-98d5-b20e9270995f",
   "metadata": {},
   "outputs": [
    {
     "name": "stdout",
     "output_type": "stream",
     "text": [
      "hello world 101\n",
      "10110\n"
     ]
    }
   ],
   "source": [
    "# String can be concatenated with a number that is represented as a string\n",
    "my_string = \"hello\" + \" \" + \"world\" + \" \" + \"101\"\n",
    "print(my_string)\n",
    "\n",
    "# Numbers represented as strings get concatenated\n",
    "my_string = \"101\" + \"10\"\n",
    "print(my_string)"
   ]
  },
  {
   "cell_type": "code",
   "execution_count": 63,
   "id": "bbf86259-9df9-49b6-8e7a-665452044c35",
   "metadata": {},
   "outputs": [
    {
     "ename": "TypeError",
     "evalue": "can only concatenate str (not \"int\") to str",
     "output_type": "error",
     "traceback": [
      "\u001b[0;31m---------------------------------------------------------------------------\u001b[0m",
      "\u001b[0;31mTypeError\u001b[0m                                 Traceback (most recent call last)",
      "Input \u001b[0;32mIn [63]\u001b[0m, in \u001b[0;36m<cell line: 3>\u001b[0;34m()\u001b[0m\n\u001b[1;32m      1\u001b[0m \u001b[38;5;66;03m# String CANNOT be concatenated with a number that is NOT represented as a string\u001b[39;00m\n\u001b[1;32m      2\u001b[0m \u001b[38;5;66;03m# This will result in a runtime error\u001b[39;00m\n\u001b[0;32m----> 3\u001b[0m my_string \u001b[38;5;241m=\u001b[39m \u001b[38;5;124;43m\"\u001b[39;49m\u001b[38;5;124;43mhello\u001b[39;49m\u001b[38;5;124;43m\"\u001b[39;49m\u001b[43m \u001b[49m\u001b[38;5;241;43m+\u001b[39;49m\u001b[43m \u001b[49m\u001b[38;5;124;43m\"\u001b[39;49m\u001b[38;5;124;43m \u001b[39;49m\u001b[38;5;124;43m\"\u001b[39;49m\u001b[43m \u001b[49m\u001b[38;5;241;43m+\u001b[39;49m\u001b[43m \u001b[49m\u001b[38;5;124;43m\"\u001b[39;49m\u001b[38;5;124;43mworld\u001b[39;49m\u001b[38;5;124;43m\"\u001b[39;49m\u001b[43m \u001b[49m\u001b[38;5;241;43m+\u001b[39;49m\u001b[43m \u001b[49m\u001b[38;5;124;43m\"\u001b[39;49m\u001b[38;5;124;43m \u001b[39;49m\u001b[38;5;124;43m\"\u001b[39;49m\u001b[43m \u001b[49m\u001b[38;5;241;43m+\u001b[39;49m\u001b[43m \u001b[49m\u001b[38;5;241;43m101\u001b[39;49m\n\u001b[1;32m      4\u001b[0m \u001b[38;5;28mprint\u001b[39m(my_string)\n",
      "\u001b[0;31mTypeError\u001b[0m: can only concatenate str (not \"int\") to str"
     ]
    }
   ],
   "source": [
    "# String CANNOT be concatenated with a number that is NOT represented as a string\n",
    "# This will result in a runtime error\n",
    "my_string = \"hello\" + \" \" + \"world\" + \" \" + 101\n",
    "print(my_string)"
   ]
  },
  {
   "cell_type": "markdown",
   "id": "0f86e805-fe52-4c5d-8bf6-d8696e27a874",
   "metadata": {},
   "source": [
    "### Type Conversion\n",
    "\n",
    "The process of converting the data type of a value from one type to the other is called as **type conversion**. For example, converting an integer value **10** to the string representation **\"10\"** is type conversion. The reverse is also true.  \n",
    "\n",
    "Type conversion from string to integer is required if the input number we recieve is represented as a string but we need to perform mathematical operations on it. For example, we have a website that returns us the temperature in celsius (but this data is in string format) and we need to convert it to farenheit, we first need to convert the celsius to integer or float.  \n",
    "\n",
    "The syntax for type conversion from string to integer is `int(\"100\")`  and the syntax to convert integer to string is `str(100)`  \n",
    "\n",
    "we can also perform type conversion on other data types."
   ]
  },
  {
   "cell_type": "code",
   "execution_count": 11,
   "id": "e98de450-14fa-4a60-8545-0c11b3df6b5f",
   "metadata": {},
   "outputs": [
    {
     "name": "stdout",
     "output_type": "stream",
     "text": [
      "hello 125\n",
      "101919\n"
     ]
    }
   ],
   "source": [
    "my_string = \"hello\" + \" \" + str(125)\n",
    "print(my_string)\n",
    "\n",
    "my_string = str(101) + str(919)\n",
    "print(my_string)"
   ]
  },
  {
   "cell_type": "code",
   "execution_count": 19,
   "id": "8b91380d",
   "metadata": {},
   "outputs": [
    {
     "name": "stdout",
     "output_type": "stream",
     "text": [
      "number: 10191900\n",
      "float: 10191900.0\n",
      "\n",
      "number: 23\n",
      "number: 23\n"
     ]
    }
   ],
   "source": [
    "# Integer type conversion\n",
    "my_number = int(my_string)\n",
    "my_number *= 100\n",
    "print('number:', my_number)\n",
    "\n",
    "# Type conversion from number to float\n",
    "my_float = float(my_number)\n",
    "print('float:', my_float)\n",
    "\n",
    "print()\n",
    "\n",
    "d1 = 23.989\n",
    "d2 = 23.125\n",
    "\n",
    "# Type conversion from float to number\n",
    "print('number:', int(d1))\n",
    "print('number:', int(d2))"
   ]
  },
  {
   "cell_type": "markdown",
   "id": "c4caa8c0-6d62-4383-90b9-dff01552c947",
   "metadata": {},
   "source": [
    "### String Multiplication\n",
    "\n",
    "Python strings support another mathematical operator - the **\\*** operator. This operator allows us to repeat a string for desired number of times. The syntax is `some_string * N` where **N** is the number of repetetions of the string we want. For example, `\"hello \" * 3 means hello hello hello`"
   ]
  },
  {
   "cell_type": "code",
   "execution_count": 64,
   "id": "8fb505f8-cf35-435a-9083-cb3809a13d72",
   "metadata": {},
   "outputs": [
    {
     "name": "stdout",
     "output_type": "stream",
     "text": [
      "hello hello hello \n"
     ]
    }
   ],
   "source": [
    "my_string = \"hello \" * 3\n",
    "print(my_string)"
   ]
  },
  {
   "cell_type": "code",
   "execution_count": 70,
   "id": "0de7850c-54ec-457c-bea7-8ec520190f0c",
   "metadata": {},
   "outputs": [
    {
     "name": "stdout",
     "output_type": "stream",
     "text": [
      "AAAAA AAAAA AAAAA \n"
     ]
    }
   ],
   "source": [
    "my_string = ((\"A\" * 5) + \" \") * 3\n",
    "print(my_string)"
   ]
  },
  {
   "cell_type": "markdown",
   "id": "7a467a72-6fbd-4e8d-81d9-b97b0209af71",
   "metadata": {},
   "source": [
    "### String Length\n",
    "\n",
    "Every string in Python has a length associated - it gives a count of the number of characters present in the string. The characters in a string are **0-indexed** (i.e. the first character occurs at index **0**, the next at index **1** and so on). To calculate the length of the string we use the **len()** keyword. For example `len(\"help\")` outputs 4 (denoting the length of the string is **4** i.e. it is 4 characters long)."
   ]
  },
  {
   "cell_type": "code",
   "execution_count": 74,
   "id": "a78ce869-3842-4ed8-ae27-6c9f98dadeba",
   "metadata": {},
   "outputs": [
    {
     "name": "stdout",
     "output_type": "stream",
     "text": [
      "help\n",
      "4\n",
      "\n",
      "helpME!\n",
      "7\n"
     ]
    }
   ],
   "source": [
    "# Check the length of the string\n",
    "my_string = \"help\"\n",
    "print(my_string)\n",
    "print(len(my_string))\n",
    "\n",
    "print()\n",
    "\n",
    "# Update the current string; length will also get updated\n",
    "my_string = my_string + \"ME!\"\n",
    "print(my_string)\n",
    "print(len(my_string))"
   ]
  },
  {
   "cell_type": "markdown",
   "id": "f2b170e8",
   "metadata": {},
   "source": [
    "### Escape Sequences \n",
    "\n",
    "An escape sequence is a sequence of characters that does not represent itself when used inside a character or string but is translated to another character or keyword that may be difficult to represent directly.  \n",
    "\n",
    "In Python the escape sequence starts with the character **\\\\** and it tells Python that the character immediately following this is to be treated as a string. This allows us to print special characters as a string.  \n",
    "\n",
    "```python\n",
    "string = 'today is teacher\\'s day'\n",
    "print(string) # Output is today is teacher's day\n",
    "```  \n",
    "\n",
    "Also, some characters following the **\\\\** have a special meaning and do not get represented as a part of the string directly. Some examples of this are **\\n**, **\\t** etc. "
   ]
  },
  {
   "cell_type": "code",
   "execution_count": 56,
   "id": "abbc0379",
   "metadata": {},
   "outputs": [
    {
     "name": "stdout",
     "output_type": "stream",
     "text": [
      "today is teacher's day\n",
      "hello\n",
      "world\n",
      "\thello\tworld\n"
     ]
    }
   ],
   "source": [
    "# The escape sequence \\ tells python to consider the following character as a string\n",
    "string = 'today is teacher\\'s day'\n",
    "print(string)\n",
    "\n",
    "# The escape sequence \\n tells Python to print a newline immediately after\n",
    "string = 'hello\\nworld'\n",
    "print(string)\n",
    "\n",
    "# The escape sequence \\t tells Python to print a tab immediately after\n",
    "string = '\\thello\\tworld'\n",
    "print(string)"
   ]
  },
  {
   "cell_type": "markdown",
   "id": "6d4b5cec-d112-423e-9f18-821a2d0cf522",
   "metadata": {},
   "source": [
    "### Formatted Strings"
   ]
  },
  {
   "cell_type": "markdown",
   "id": "c7391f5c-57fe-43c8-a602-904de1149473",
   "metadata": {},
   "source": [
    "String formatting is a technique that allows us to create a _template_ of a string and then later dynamically create the actual string by passing in some of the information to the template through variables.  \n",
    "\n",
    "Formatted strings in Python can be created using **f-string**.\n",
    "The f-string starts with the letter **f** followed by the string in double quotes **\" \"** and in between whatever variable we want to pass enclosed in a pair of curly braces **{ }**  \n",
    "\n",
    "\n",
    "```python\n",
    "i = \"world\"\n",
    "m = f\"hello {i}\"\n",
    "print(m) # Output is hello world\n",
    "```\n",
    "\n",
    "Here, the f-string is `f\"hello {i}\"` and the value of the variable `i` gets filled into the f-string during creation. The final result (stored in the variable `m`) is the actual string created using f-string and variable."
   ]
  },
  {
   "cell_type": "code",
   "execution_count": 91,
   "id": "c26dec01-940b-4eff-b5fe-7a848b978b80",
   "metadata": {},
   "outputs": [
    {
     "name": "stdout",
     "output_type": "stream",
     "text": [
      "Hello, Bob\n",
      "Hello, Bob\n"
     ]
    }
   ],
   "source": [
    "name = \"Bob\"\n",
    "\n",
    "# Creating a simple f-string using a variable\n",
    "greeting = f\"Hello, {name}\"\n",
    "print(greeting)\n",
    "\n",
    "# Updating the variable does not update the original f-string\n",
    "name = \"David\"\n",
    "print(greeting)"
   ]
  },
  {
   "cell_type": "code",
   "execution_count": 28,
   "id": "4f975ce8-7b31-4890-93bd-ee24451648ed",
   "metadata": {},
   "outputs": [
    {
     "name": "stdout",
     "output_type": "stream",
     "text": [
      "Bob is 23 years old\n"
     ]
    }
   ],
   "source": [
    "# F-string works with numbers without type conversion\n",
    "age = 23\n",
    "message = f\"Bob is {age} years old\"\n",
    "print(message)"
   ]
  },
  {
   "cell_type": "markdown",
   "id": "3e6c3a38-6fd4-478c-bfde-3260464111f4",
   "metadata": {},
   "source": [
    "There is another way to create formatted strings in Python. Though this is an older format for creatting formatted strings, it is still useful to know as many Python projects still use this approach.  \n",
    "\n",
    "In this format, instead of using the **f\" \"** approach, we use the **format()** keyword at the end of the string and specify the variables inside **format()** in the order that we want them to be present in the formatted string. The template string will have empty curly braces **{}** in this case.    \n",
    "\n",
    "```python\n",
    "template = \"Hello {} {}\"\n",
    "message = template.format(\"Cruel\", \"World\")\n",
    "print(message) # Output is Hello Cruel World\n",
    "```  \n",
    "\n",
    "We can also specify a format string in Python with variable names inside the curly braces using the same approach as above.  \n",
    "\n",
    "```python\n",
    "template = \"Hello {first_name} {last_name}\"\n",
    "message = template.format(first_name=\"John\", last_name=\"Doe\")\n",
    "print(message) # Output is Hello John Doe\n",
    "```  \n",
    "\n",
    "In this approach, the variable name is not specified during template string creation, rather we just specify an empty set of **{ }** and at the time of actual string creation, we pass the data to the template."
   ]
  },
  {
   "cell_type": "code",
   "execution_count": 80,
   "id": "bc76e2ca-5fe7-4be7-8ea1-9e3538586bdc",
   "metadata": {},
   "outputs": [
    {
     "name": "stdout",
     "output_type": "stream",
     "text": [
      "How are you Eugene?\n",
      "How are you Max?\n"
     ]
    }
   ],
   "source": [
    "name = \"Eugene\"\n",
    "\n",
    "# Creating a template string\n",
    "template = \"How are you {}?\"\n",
    "message_1 = template.format(name)\n",
    "\n",
    "# Creating a new string by updating the variable used in the template string\n",
    "name = \"Max\"\n",
    "message_2 = template.format(name)\n",
    "\n",
    "print(message_1)\n",
    "print(message_2)"
   ]
  },
  {
   "cell_type": "code",
   "execution_count": 23,
   "id": "9c4d48bc-2887-4d5c-aedb-9f0a5fc76dd5",
   "metadata": {},
   "outputs": [
    {
     "name": "stdout",
     "output_type": "stream",
     "text": [
      "Hello there Charles, Good day to you!\n",
      "Good evening Joseph, Welcome Back!\n"
     ]
    }
   ],
   "source": [
    "message_title = \"Charles\"\n",
    "message_body = \"Hello there\"\n",
    "message_footer = \"Good day to you!\"\n",
    "\n",
    "# A formatted string using multiple variables\n",
    "template = \"{} {}, {}\"\n",
    "\n",
    "# Creating the first string from template\n",
    "message_1 = template.format(message_body, message_title, message_footer)\n",
    "\n",
    "message_title = \"Joseph\"\n",
    "message_body = \"Good evening\"\n",
    "message_footer = \"Welcome Back!\"\n",
    "\n",
    "# Updating the variables and creating a new string from template\n",
    "message_2 = template.format(message_body, message_title, message_footer)\n",
    "\n",
    "print(message_1)\n",
    "print(message_2)"
   ]
  },
  {
   "cell_type": "code",
   "execution_count": 26,
   "id": "de0b34d5",
   "metadata": {},
   "outputs": [
    {
     "name": "stdout",
     "output_type": "stream",
     "text": [
      "Hello Anish Pal\n",
      "Hello Pal Anish\n"
     ]
    }
   ],
   "source": [
    "# If variable names are not specified in the template, the order is important\n",
    "template = \"Hello {} {}\"\n",
    "\n",
    "# Printing in the order in which the values are provided\n",
    "message_1 = template.format(\"Anish\", \"Pal\")\n",
    "message_2 = template.format(\"Pal\", \"Anish\")\n",
    "\n",
    "print(message_1)\n",
    "print(message_2)"
   ]
  },
  {
   "cell_type": "code",
   "execution_count": 28,
   "id": "d5dc62ad-b768-4043-bd65-ab8c1acc32ae",
   "metadata": {},
   "outputs": [
    {
     "name": "stdout",
     "output_type": "stream",
     "text": [
      "Hello Anish Pal\n",
      "Hello John Doe\n",
      "Hello David Beckham\n"
     ]
    }
   ],
   "source": [
    "# Formatted string using format() and variable names\n",
    "template = \"Hello {first_name} {last_name}\"\n",
    "greeting_1 = template.format(first_name=\"Anish\", last_name=\"Pal\")\n",
    "print(greeting_1)\n",
    "\n",
    "greeting_2 = template.format(first_name=\"John\", last_name=\"Doe\")\n",
    "print(greeting_2)\n",
    "\n",
    "# Using this approach the order of variables in template does not matter \n",
    "greeting_3 = template.format(last_name=\"Beckham\", first_name=\"David\")\n",
    "print(greeting_3)"
   ]
  },
  {
   "cell_type": "code",
   "execution_count": 29,
   "id": "3ba1f3e3-bccf-4f55-8f36-e25847de6b95",
   "metadata": {},
   "outputs": [
    {
     "name": "stdout",
     "output_type": "stream",
     "text": [
      "INSIDE OUTER TEMPLATE inside inner template <INNER> <OUTER>\n",
      "INSIDE OUTER TEMPLATE <OUTER> inside inner template <INNER>\n"
     ]
    }
   ],
   "source": [
    "# Template strings\n",
    "inner_template = \"inside inner template {}\"\n",
    "outer_template = \"INSIDE OUTER TEMPLATE {} {}\"\n",
    "\n",
    "# Create a string using nested template strings\n",
    "buffer_1 = outer_template.format(inner_template.format(\"<INNER>\"), \"<OUTER>\")\n",
    "buffer_2 = outer_template.format(\"<OUTER>\", inner_template.format(\"<INNER>\"))\n",
    "\n",
    "print(buffer_1)\n",
    "print(buffer_2)"
   ]
  },
  {
   "cell_type": "code",
   "execution_count": 30,
   "id": "0b33fac8-2afd-4bd4-87c4-7e246b9540e8",
   "metadata": {},
   "outputs": [
    {
     "name": "stdout",
     "output_type": "stream",
     "text": [
      "Hi there, I am Anish, from India and I am 28 years old\n"
     ]
    }
   ],
   "source": [
    "# Template string with named variables\n",
    "template = \"Hi there, I am {name}, from {country} and I am {age} years old\"\n",
    "\n",
    "# Create the string from the template\n",
    "message = template.format(name=\"Anish\", country=\"India\", age=28)\n",
    "print(message)"
   ]
  },
  {
   "cell_type": "markdown",
   "id": "5f4ecff2-916b-4a25-8ea4-dead16cef275",
   "metadata": {},
   "source": [
    "We can also use template strings directly inside **print()** function to print dynamic results. Also, we can create expressions that evaluate to a value inside a template strings before printing them"
   ]
  },
  {
   "cell_type": "code",
   "execution_count": 7,
   "id": "cc10ef09-4b62-4499-bec1-498e76b5809e",
   "metadata": {},
   "outputs": [
    {
     "name": "stdout",
     "output_type": "stream",
     "text": [
      "The square of 13 is 169\n",
      "The cube of 13 is 2197\n"
     ]
    }
   ],
   "source": [
    "number = 13\n",
    "print(f\"The square of {number} is {number ** 2}\")\n",
    "print(\"The cube of {} is {}\".format(number, number ** 3))"
   ]
  },
  {
   "cell_type": "markdown",
   "id": "aff96a56",
   "metadata": {},
   "source": [
    "### String Indexing\n",
    "\n",
    "A string is stored in memory as a sequence of characters. Below is a representation of how a string is stored in memory. The last character **\\0** is denoted as a string termination symbol and is used internally by programming languages to mark the end of the string. This symbol is not a part of the string when the string variable is used.  \n",
    "\n",
    "This is how a string is stored in memory:"
   ]
  },
  {
   "cell_type": "markdown",
   "id": "12329f29",
   "metadata": {},
   "source": [
    "                |    |    |    |    |    |    |    |    |    |    |    |    |    |\n",
    "                |  h |  e |  l |  l |  l |  o |    |  w |  o |  r |  l |  d | \\0 |\n",
    "                |    |    |    |    |    |    |    |    |    |    |    |    |    |\n",
    "                1000 1001 1002 1003 1004 1005 1006 1007 1008 1009 1010 1011 1012"
   ]
  },
  {
   "cell_type": "markdown",
   "id": "7ff98da4",
   "metadata": {},
   "source": [
    "Whenever a string is stored in memory, each individual cell of that memory stores a single character. In the above example, the cells are the memory locations `1000` `1001` `1002`...`1011`. Each of these memory locations can be accessed individually in any programming language through a special notation called **indexing**.  \n",
    "\n",
    "Indexing allows us to individually access the characters of the string without having to specify their exact location in memory. What this means is we can access the character **W** in the above string without having to specify the exact address of the memory cell which is `1006`. Instead we use simple numbers like **1**, **2**, **3** etc. to represent these memory locations and access the individual character. Each of this number that represents the location of a character, is called an **index**.  \n",
    "\n",
    "In Python, the first character of the string is located at index **0**, the second character is located at index **1**, the third character is located at index **2** and so on. The last character is always indexed as **one less than the length of the string**.  \n",
    "\n",
    "To index a character in a string, we use the string variable followed by square brackets **[i]** where **i** represents the location we want to index.  \n",
    "\n",
    "```python\n",
    "string = \"hello world\"\n",
    "print(string[0]) # Index the first character\n",
    "```"
   ]
  },
  {
   "cell_type": "markdown",
   "id": "5097aab5",
   "metadata": {},
   "source": [
    "                             \n",
    "      Memory Address      -> 1003  4050  7099  8888  1001  7710  \n",
    "                             |     |     |     |     |     |     |\n",
    "                             |  p  |  y  |  t  |  h  |  o  |  n  |\n",
    "                             |     |     |     |     |     |     |\n",
    "      Front Index         ->    0     1     2     3     4     5     \n",
    "      Reverse Index       ->   -6    -5    -4    -3    -2    -1\n",
    "                               "
   ]
  },
  {
   "cell_type": "markdown",
   "id": "517bcf78",
   "metadata": {},
   "source": [
    "The above is an image of how Python stores a string and how indexing works in Python. Remember, in Python the individual characters of the string are not stored in contiguous memory locations!  \n",
    "\n",
    "We can verify this by checking `id(string[0])` `id(string[1]` `id(string[2])` etc."
   ]
  },
  {
   "cell_type": "code",
   "execution_count": 31,
   "id": "7ef9efb4",
   "metadata": {},
   "outputs": [
    {
     "name": "stdout",
     "output_type": "stream",
     "text": [
      "string[0]: h\n",
      "string[1]: e\n",
      "string[4]: o\n",
      "string[10]: d\n",
      "string[10]: d\n"
     ]
    }
   ],
   "source": [
    "string = \"hello world\"\n",
    "\n",
    "# Index the first character\n",
    "print(f'string[0]: {string[0]}')\n",
    "\n",
    "# Index the second character\n",
    "print(f'string[1]: {string[1]}')\n",
    "\n",
    "# Index the 5th character\n",
    "print(f'string[4]: {string[4]}')\n",
    "\n",
    "# Index the last character\n",
    "print(f'string[10]: {string[10]}')\n",
    "\n",
    "# Index the last character by calculating\n",
    "print(f\"string[10]: {string[len(string) - 1]}\")"
   ]
  },
  {
   "cell_type": "code",
   "execution_count": 32,
   "id": "0ff7962a",
   "metadata": {},
   "outputs": [
    {
     "name": "stdout",
     "output_type": "stream",
     "text": [
      "p -> 4368604784\n",
      "y -> 4372479408\n",
      "t -> 4370824240\n",
      "h -> 4371258672\n",
      "o -> 4370830256\n",
      "n -> 4371114736\n"
     ]
    }
   ],
   "source": [
    "string = \"python\"\n",
    "\n",
    "print(f\"{string[0]} -> {id(string[0])}\")\n",
    "print(f\"{string[1]} -> {id(string[1])}\")\n",
    "print(f\"{string[2]} -> {id(string[2])}\")\n",
    "print(f\"{string[3]} -> {id(string[3])}\")\n",
    "print(f\"{string[4]} -> {id(string[4])}\")\n",
    "print(f\"{string[5]} -> {id(string[5])}\")"
   ]
  },
  {
   "cell_type": "markdown",
   "id": "59644e83",
   "metadata": {},
   "source": [
    "### Reverse Indexing\n",
    "\n",
    "In Python it is also possible to index a string from the end, i.e. identify the memory location of the last character of the string and work our way backwards to the first character of the string. The last index in this case is denoted by **-1**, the second last index as **-2** and so on. The first index (i.e. index **0**) is denoted as the **-(length of the string)**."
   ]
  },
  {
   "cell_type": "code",
   "execution_count": 33,
   "id": "6ef76fab",
   "metadata": {},
   "outputs": [
    {
     "name": "stdout",
     "output_type": "stream",
     "text": [
      "string[-1]: 5\n",
      "string[-3]: 3\n",
      "string[-6]: $\n",
      "string[-6]: $\n"
     ]
    }
   ],
   "source": [
    "string = \"$12345\"\n",
    "\n",
    "# Print the last index using reverse index\n",
    "print(f\"string[-1]: {string[-1]}\")\n",
    "\n",
    "# Print the 3rd index using reverse index\n",
    "print(f\"string[-3]: {string[-3]}\")\n",
    "\n",
    "# Print the 1st index using reverse index\n",
    "print(f\"string[-6]: {string[-6]}\")\n",
    "\n",
    "# Print the 1st index using reverse index by calcuating\n",
    "print(f\"string[-6]: {string[-len(string)]}\")"
   ]
  },
  {
   "cell_type": "markdown",
   "id": "83876b4a",
   "metadata": {},
   "source": [
    "### String Slicing\n",
    "\n",
    "Slicing means to extract a portion of the string from the main string based on a starting index and an ending index. The general syntax is `string[start_index : end_index]` and it is important to note that slicing can also include the whole string.  \n",
    "\n",
    "Remember, the character at **end_index** is not actually considered for slicing. If we want to include the character at **end_index** for slicing then we have to specify the slice as `string[start_index : end_index + 1]`  \n",
    "\n",
    "Also remeber, just like regular indexing, it is also possible to slice the string using reverse indexing methods. This means that we can specify negative integers for the slices and the strings will be sliced accordingly."
   ]
  },
  {
   "cell_type": "code",
   "execution_count": 48,
   "id": "9267ccde",
   "metadata": {},
   "outputs": [
    {
     "name": "stdout",
     "output_type": "stream",
     "text": [
      "string[0:3]: 0123\n",
      "string[3:6]: 3456\n",
      "string[3:6]: 3456\n"
     ]
    }
   ],
   "source": [
    "string = \"01234567\"\n",
    "\n",
    "# Slice the first 4 characters of the string\n",
    "print(f\"string[0:3]: {string[0:4]}\")\n",
    "\n",
    "# Slice from the 4th character to the end of the string\n",
    "print(f\"string[3:6]: {string[3:7]}\")\n",
    "\n",
    "# Slice using reverse indexing from 4th character to end of string\n",
    "print(f\"string[3:6]: {string[-5:-1]}\")"
   ]
  },
  {
   "cell_type": "markdown",
   "id": "18f4e712",
   "metadata": {},
   "source": [
    "We can choose to leave out either the **start_index** or the **end_index** empty during string slicing. If the **start_index** is empty, then the string will slice from index **0** to the **end_index**. The syntax for this is `string[:end_index]`  \n",
    "\n",
    "If the **end_index** is empty then it will start slicing from the **start_index** upto the end of the string. The syntax for this is `string[start_index:]`  \n",
    "\n",
    "\n",
    "If both are left empty, then the whole string is sliced. The syntax for this is `string[:]`"
   ]
  },
  {
   "cell_type": "code",
   "execution_count": 34,
   "id": "e7ecb6d6",
   "metadata": {},
   "outputs": [
    {
     "name": "stdout",
     "output_type": "stream",
     "text": [
      "string[4:]\t456789\n",
      "string[:4]\t0123\n",
      "string[:]\t0123456789\n"
     ]
    }
   ],
   "source": [
    "string = \"0123456789\"\n",
    "\n",
    "# Slice from 4th index onwards\n",
    "print(f\"string[4:]\\t{string[4:]}\")\n",
    "\n",
    "# Slice upto the 4th index\n",
    "print(f\"string[:4]\\t{string[:4]}\")\n",
    "\n",
    "# Slice the whole string\n",
    "print(f\"string[:]\\t{string[:]}\")"
   ]
  },
  {
   "cell_type": "markdown",
   "id": "8a3b3c3f",
   "metadata": {},
   "source": [
    "We can also slice strings by specifying a **step**. A step basically means the amount by which to increase the index when the slicing operation takes place. The syntax for this is `string[start_index:end_index:step]`  \n",
    "\n",
    "By default the step value is set to 1 which means index increases by 1 starting from the **start_index**. If we set the step as **3** then after **start_index** the next index considered for slicing will be **start_index + 3** and so on. "
   ]
  },
  {
   "cell_type": "code",
   "execution_count": 1,
   "id": "b51bdfa6",
   "metadata": {},
   "outputs": [
    {
     "name": "stdout",
     "output_type": "stream",
     "text": [
      "0123456789 ABCDEFGHIJ\n",
      "\n",
      "string[2:12:3]\n",
      "258A\n",
      "\n",
      "string[::5]\n",
      "05 EJ\n",
      "\n",
      "string[::-1]\n",
      "JIHGFEDCBA 9876543210\n",
      "\n",
      "string[-1:-10:-1]\n",
      "JIHGFEDCBA\n",
      "\n",
      "string[-10:-1]\n",
      "ABCDEFGHI\n",
      "\n"
     ]
    }
   ],
   "source": [
    "string = \"0123456789 ABCDEFGHIJ\"\n",
    "print(string)\n",
    "print()\n",
    "\n",
    "# Slice with a step of 3 in the range [2,12]\n",
    "print(f\"string[2:12:3]\\n{string[2:12:3]}\")\n",
    "print()\n",
    "\n",
    "# Slice with a step of 5 in the range[:]\n",
    "print(f\"string[::5]\\n{string[::5]}\")\n",
    "print()\n",
    "\n",
    "# Reverse a string \n",
    "print(f\"string[::-1]\\n{string[::-1]}\")\n",
    "print()\n",
    "\n",
    "# Print from index -10 to index -1 in reverse \n",
    "print(f\"string[-1:-10:-1]\\n{string[-1:-11:-1]}\")\n",
    "print()\n",
    "\n",
    "# Print from index -10 to index -1 in forward \n",
    "print(f\"string[-10:-1]\\n{string[-10:-1]}\")\n",
    "print()"
   ]
  },
  {
   "cell_type": "markdown",
   "id": "0558e335",
   "metadata": {},
   "source": [
    "### Immutability \n",
    "\n",
    "In Python, strings are immutable. This means that the contents of a string cannot be changed once it has been stored in the memory. We can modify that string and it will get assigned to a new location, we can entirely erase the contents of the variable holding the string and replace it with new one but it is not possible to alter the string itself.  \n",
    "\n",
    "For example, if we have a string `string = \"python\"` then we cannot modify this string at it's memory location by changing it's contents. We can assign a new value to the variable `string` but this will get stored in a new memory address but the original string **python** cannot be modified at source. "
   ]
  },
  {
   "cell_type": "code",
   "execution_count": 36,
   "id": "4481cf77",
   "metadata": {},
   "outputs": [
    {
     "name": "stdout",
     "output_type": "stream",
     "text": [
      "python -> 4389337136\n",
      "pyThon -> 4418297264\n",
      "pyThon. -> 4418313968\n"
     ]
    },
    {
     "ename": "TypeError",
     "evalue": "'str' object does not support item assignment",
     "output_type": "error",
     "traceback": [
      "\u001b[0;31m---------------------------------------------------------------------------\u001b[0m",
      "\u001b[0;31mTypeError\u001b[0m                                 Traceback (most recent call last)",
      "Input \u001b[0;32mIn [36]\u001b[0m, in \u001b[0;36m<cell line: 15>\u001b[0;34m()\u001b[0m\n\u001b[1;32m     12\u001b[0m \u001b[38;5;66;03m# This modification is not allowed as it mutates the existing string\u001b[39;00m\n\u001b[1;32m     13\u001b[0m \u001b[38;5;66;03m# This will lead to an error\u001b[39;00m\n\u001b[1;32m     14\u001b[0m my_string \u001b[38;5;241m=\u001b[39m \u001b[38;5;124m\"\u001b[39m\u001b[38;5;124mpython\u001b[39m\u001b[38;5;124m\"\u001b[39m\n\u001b[0;32m---> 15\u001b[0m my_string[\u001b[38;5;241m0\u001b[39m] \u001b[38;5;241m=\u001b[39m \u001b[38;5;124m\"\u001b[39m\u001b[38;5;124mP\u001b[39m\u001b[38;5;124m\"\u001b[39m\n\u001b[1;32m     16\u001b[0m \u001b[38;5;28mprint\u001b[39m(my_string)\n",
      "\u001b[0;31mTypeError\u001b[0m: 'str' object does not support item assignment"
     ]
    }
   ],
   "source": [
    "string = \"python\"\n",
    "print(f\"{string} -> {id(string)}\")\n",
    "\n",
    "# This modification is allowed as it does not mutate the existing string\n",
    "string = \"pyThon\"\n",
    "print(f\"{string} -> {id(string)}\")\n",
    "\n",
    "# This modification is allowed as it does not mutate the existing string\n",
    "string = string + \".\"\n",
    "print(f\"{string} -> {id(string)}\")\n",
    "\n",
    "# This modification is not allowed as it mutates the existing string\n",
    "# This will lead to an error\n",
    "my_string = \"python\"\n",
    "my_string[0] = \"P\"\n",
    "print(my_string)"
   ]
  },
  {
   "cell_type": "markdown",
   "id": "bd64f502",
   "metadata": {},
   "source": [
    "### Built In Functions And Methods\n",
    "\n",
    "**Functions** in Python consist of a sequence of characters followed by the paranthesis **()** for example `hello()`, `foo()` etc. Python provides many in-built functions that have pre-defined behavior and we cannot use them for anything else. Some examples of in-built functions are `print()`, `len()`, `type()`  \n",
    "\n",
    "\n",
    "**Methods** in Python are functions that start with the dot operator **.** and are appended to the end of a variable that represents a class, a string, a list etc. For example `string.replace()`, `string.isupper()` etc are some in built Python methods that extend the functionality of the existing string data type\n"
   ]
  },
  {
   "cell_type": "code",
   "execution_count": 37,
   "id": "ef3dbc25",
   "metadata": {},
   "outputs": [
    {
     "name": "stdout",
     "output_type": "stream",
     "text": [
      "THE QUICK BROWN FOX.isupper ? True\n",
      "\n",
      "THE QUICK BROWN FOX.lower ? the quick brown fox\n",
      "\n",
      "jumps over the lazy dog.upper ? JUMPS OVER THE LAZY DOG\n",
      "\n",
      "2.355 with a precision of 5 ? 2.35500\n"
     ]
    }
   ],
   "source": [
    "string_1 = \"THE QUICK BROWN FOX\"\n",
    "string_2 = \"jumps over the lazy dog\"\n",
    "string_3 = 2.355\n",
    "\n",
    "print(f\"{string_1}.isupper ? {string_1.isupper()}\\n\")\n",
    "print(f\"{string_1}.lower ? {string_1.lower()}\\n\")\n",
    "print(f\"{string_2}.upper ? {string_2.upper()}\\n\")\n",
    "print(f\"{string_3} with a precision of 5 ? {format(string_3, f'0.5f')}\")"
   ]
  },
  {
   "cell_type": "markdown",
   "id": "e57d9574",
   "metadata": {},
   "source": [
    "In built string methods create a new string in memory. This is because strings in Python are immutable. If the changes from the methods are not assigned to a variable, the changes will become in-accessible in memory as there is no way to know the address where they are stored! "
   ]
  },
  {
   "cell_type": "code",
   "execution_count": 38,
   "id": "a962fab9",
   "metadata": {},
   "outputs": [
    {
     "name": "stdout",
     "output_type": "stream",
     "text": [
      "4417653616\n",
      "\n",
      "4699507760\n",
      "\n",
      "4417653712\n",
      "\n",
      "before modification ->  python programming\n",
      "\n",
      "javascript programming\n",
      "after modification -> python programming\n"
     ]
    }
   ],
   "source": [
    "string = \"the quick brown fox jumps over the lazy dog\"\n",
    "print(id(string))\n",
    "print()\n",
    "\n",
    "# New address of the string variable after replace()\n",
    "string = string.replace(\"fox\", \"bear\")\n",
    "print(id(string))\n",
    "print()\n",
    "\n",
    "# New address of string variable after upper()\n",
    "string = string.upper()\n",
    "print(id(string))\n",
    "print()\n",
    "\n",
    "string = \"python programming\"\n",
    "print(f\"before modification -> \", string)\n",
    "print()\n",
    "\n",
    "# The result of replace() is not assigned to a variable\n",
    "# After executing print function, the changes will not be accessible\n",
    "print(string.replace(\"python\", \"javascript\"))\n",
    "print(f\"after modification -> {string}\")"
   ]
  },
  {
   "cell_type": "markdown",
   "id": "54ee2867",
   "metadata": {},
   "source": [
    "### Important Links\n",
    "\n",
    "- [Strings And Characters](https://realpython.com/python-strings/)\n",
    "- [String Formatting](https://realpython.com/lessons/string-formatting/)\n",
    "- [String Formatting Best Practices](https://realpython.com/python-string-formatting/)\n",
    "- [Mutability And Immutability](https://www.educative.io/answers/what-are-mutable-and-immutable-objects-in-python3)\n"
   ]
  },
  {
   "cell_type": "markdown",
   "id": "1ef2bafc-b81b-4448-90c1-43b35c0a8abc",
   "metadata": {},
   "source": [
    "## [4] Working With User Input"
   ]
  },
  {
   "cell_type": "markdown",
   "id": "f643b963-3cd2-4cd6-86d1-40ed0fd469fe",
   "metadata": {},
   "source": [
    "Working with user data is very important - the code that we write should be able to take data from an external source, process it and return the results back to the user. In Python, user inputs are collected using the **input( )** keyword.  \n",
    "\n",
    "It is important to note that in Python, user inputs are always collected as string data type. Therefore, any value entered by the user is captured by Python in string format. Some type conversion is required if we want to perform mathematical operations on the user inputs. In such a case, the entered value is either converted into an integer or a floating point value.  \n",
    "\n",
    "Consider the following example:\n",
    "\n",
    "```python\n",
    "# User input\n",
    "v = input()\n",
    "\n",
    "# User input with prompt\n",
    "v = input(\"enter name: \")\n",
    "\n",
    "# Input with prompt and type conversion\n",
    "v = int(input(\"enter number: \"))\n",
    "```  "
   ]
  },
  {
   "cell_type": "code",
   "execution_count": 39,
   "id": "aad25e96-f1bd-4fbf-8d8d-d40d2b248211",
   "metadata": {},
   "outputs": [
    {
     "name": "stdout",
     "output_type": "stream",
     "text": [
      "name? Anish\n",
      "hello Anish, wish you a good day!\n"
     ]
    }
   ],
   "source": [
    "# Taking user input with a prompt\n",
    "t = input(\"name? \")\n",
    "\n",
    "message = f\"hello {t}, wish you a good day!\"\n",
    "print(message)"
   ]
  },
  {
   "cell_type": "code",
   "execution_count": 98,
   "id": "0a8c204a-d4bd-4340-bfb8-247d5bcc5a02",
   "metadata": {},
   "outputs": [
    {
     "name": "stdin",
     "output_type": "stream",
     "text": [
      "number?  13\n"
     ]
    },
    {
     "name": "stdout",
     "output_type": "stream",
     "text": [
      "square(13) is 169\n"
     ]
    }
   ],
   "source": [
    "# Type conversion of user input\n",
    "t = int(input(\"number? \"))\n",
    "\n",
    "t_square = t ** 2\n",
    "message = f\"square({t}) is {t_square}\"\n",
    "print(message)"
   ]
  },
  {
   "cell_type": "markdown",
   "id": "65afc9d7",
   "metadata": {},
   "source": [
    "### Important Links\n",
    "\n",
    "- [Python Inputs - Documentation](https://docs.python.org/3/tutorial/inputoutput.html)"
   ]
  },
  {
   "cell_type": "markdown",
   "id": "9e7429f9-59b4-42d9-a8a3-80ea44f6e7be",
   "metadata": {},
   "source": [
    "## [5] Boolean"
   ]
  },
  {
   "cell_type": "markdown",
   "id": "f95b16dd-d3cd-4d03-8f3e-5e025ddb42c0",
   "metadata": {},
   "source": [
    "Booleans are data types that can take either of the two values only - **True** or **False**. Any given boolean data type will either be set to `True` or `False` at any given point of time but not both. Boolean values are very important from a programming point of view as they are used extensively to check for conditions and take appropriate actions (for example, if the result of an operation is `False`, the code may send an alert to the user).  "
   ]
  },
  {
   "cell_type": "code",
   "execution_count": 100,
   "id": "7820a67d-b8c0-4915-a429-f214997217aa",
   "metadata": {},
   "outputs": [
    {
     "name": "stdout",
     "output_type": "stream",
     "text": [
      "<class 'bool'>\n"
     ]
    }
   ],
   "source": [
    "# A simple example on boolean data type\n",
    "flag = True\n",
    "print(type(flag))"
   ]
  },
  {
   "cell_type": "markdown",
   "id": "11be0e16",
   "metadata": {},
   "source": [
    "### Important Links\n",
    "\n",
    "- [bool() Type](https://www.programiz.com/python-programming/methods/built-in/bool)"
   ]
  }
 ],
 "metadata": {
  "kernelspec": {
   "display_name": "Python 3 (ipykernel)",
   "language": "python",
   "name": "python3"
  },
  "language_info": {
   "codemirror_mode": {
    "name": "ipython",
    "version": 3
   },
   "file_extension": ".py",
   "mimetype": "text/x-python",
   "name": "python",
   "nbconvert_exporter": "python",
   "pygments_lexer": "ipython3",
   "version": "3.8.13"
  }
 },
 "nbformat": 4,
 "nbformat_minor": 5
}
